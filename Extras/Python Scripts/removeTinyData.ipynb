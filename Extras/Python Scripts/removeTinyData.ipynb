{
 "cells": [
  {
   "cell_type": "code",
   "execution_count": 5,
   "id": "3e48efac",
   "metadata": {},
   "outputs": [],
   "source": [
    "import os\n",
    "import json\n",
    "\n",
    "file_path = 'output\\Language_sorted.json'\n",
    "file_name, file_ext = os.path.splitext(file_path)\n",
    "\n",
    "with open(file_path) as file:\n",
    "    data = json.load(file)\n",
    "\n",
    "filtered_data = []\n",
    "others = {'date': None, 'name': 'others', 'percentage': 0}\n",
    "for entry in data:\n",
    "    percentage = entry['percentage']\n",
    "    if percentage >= 0.0005:\n",
    "        filtered_data.append(entry)\n",
    "    else:\n",
    "        if others['date'] is None:\n",
    "            others['date'] = entry['date']\n",
    "        if others['date'] == entry['date']:\n",
    "            others['percentage'] += percentage\n",
    "\n",
    "if others['date']:\n",
    "    filtered_data.append(others)\n",
    "\n",
    "filtered_data = [entry for entry in filtered_data if entry['percentage'] >= 0.0005]\n",
    "\n",
    "filtered_file_path = f'{file_name}_filtered{file_ext}'\n",
    "with open(filtered_file_path, 'w') as file:\n",
    "    json.dump(filtered_data, file, separators=(',', ':'))"
   ]
  },
  {
   "cell_type": "code",
   "execution_count": null,
   "id": "e676b9f0",
   "metadata": {},
   "outputs": [],
   "source": []
  }
 ],
 "metadata": {
  "kernelspec": {
   "display_name": "Python 3 (ipykernel)",
   "language": "python",
   "name": "python3"
  },
  "language_info": {
   "codemirror_mode": {
    "name": "ipython",
    "version": 3
   },
   "file_extension": ".py",
   "mimetype": "text/x-python",
   "name": "python",
   "nbconvert_exporter": "python",
   "pygments_lexer": "ipython3",
   "version": "3.10.9"
  }
 },
 "nbformat": 4,
 "nbformat_minor": 5
}
