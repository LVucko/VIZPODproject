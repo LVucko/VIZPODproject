{
 "cells": [
  {
   "cell_type": "code",
   "execution_count": 10,
   "id": "dd7a5ba7",
   "metadata": {
    "scrolled": true
   },
   "outputs": [],
   "source": [
    "import os\n",
    "import pandas as pd\n",
    "\n",
    "data = pd.read_csv('shs.csv')\n",
    "grouped = data.groupby('category')\n",
    "output_directory = 'output'\n",
    "os.makedirs(output_directory, exist_ok=True)\n",
    "\n",
    "for category, group in grouped:\n",
    "    category = category.replace('/', '_')\n",
    "    group = group.drop(['category', 'change'], axis=1)\n",
    "    filename = f'{category}.json'\n",
    "    output_path = os.path.join(output_directory, filename)\n",
    "    group.to_json(output_path, orient='records')"
   ]
  },
  {
   "cell_type": "code",
   "execution_count": null,
   "id": "50f3e54d",
   "metadata": {},
   "outputs": [],
   "source": []
  }
 ],
 "metadata": {
  "kernelspec": {
   "display_name": "Python 3 (ipykernel)",
   "language": "python",
   "name": "python3"
  },
  "language_info": {
   "codemirror_mode": {
    "name": "ipython",
    "version": 3
   },
   "file_extension": ".py",
   "mimetype": "text/x-python",
   "name": "python",
   "nbconvert_exporter": "python",
   "pygments_lexer": "ipython3",
   "version": "3.10.9"
  }
 },
 "nbformat": 4,
 "nbformat_minor": 5
}
