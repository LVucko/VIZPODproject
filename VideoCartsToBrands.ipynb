{
 "cells": [
  {
   "cell_type": "code",
   "execution_count": 1,
   "id": "dd7a5ba7",
   "metadata": {
    "scrolled": true
   },
   "outputs": [],
   "source": [
    "import pandas as pd\n",
    "df = pd.read_csv('output\\SplitCSVs\\Video Card Description.csv')\n",
    "df['keyword'] = df['name'].str.extract('(ATI|AMD|Intel|NVIDIA|Other)')\n",
    "grouped_df = df.groupby(['date', 'keyword']).agg({'percentage': 'sum'}).reset_index()\n",
    "grouped_df = grouped_df.rename(columns={'keyword': 'name'})\n",
    "grouped_df.to_json('output\\Vendors.json', orient='records')"
   ]
  },
  {
   "cell_type": "code",
   "execution_count": null,
   "id": "50f3e54d",
   "metadata": {},
   "outputs": [],
   "source": []
  }
 ],
 "metadata": {
  "kernelspec": {
   "display_name": "Python 3 (ipykernel)",
   "language": "python",
   "name": "python3"
  },
  "language_info": {
   "codemirror_mode": {
    "name": "ipython",
    "version": 3
   },
   "file_extension": ".py",
   "mimetype": "text/x-python",
   "name": "python",
   "nbconvert_exporter": "python",
   "pygments_lexer": "ipython3",
   "version": "3.10.9"
  }
 },
 "nbformat": 4,
 "nbformat_minor": 5
}
